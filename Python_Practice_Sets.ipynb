{
 "cells": [
  {
   "cell_type": "markdown",
   "metadata": {},
   "source": "## 🧩 SET 1\n### Question 1: Convert weight from kilograms to pounds"
  },
  {
   "cell_type": "code",
   "metadata": {},
   "source": "# SET 1 - Question 1\n# Program to convert weight from kilograms to pounds\n\n# Get input from the user\nkg = float(input(\"Enter weight in kilograms: \"))\n\n# Convert kilograms to pounds\npounds = kg * 2.2\n\n# Display result\nprint(f\"{kg} kilograms is equal to {pounds} pounds.\")"
  },
  {
   "cell_type": "markdown",
   "metadata": {},
   "source": "### Question 2: NumPy and Matplotlib operations"
  },
  {
   "cell_type": "code",
   "metadata": {},
   "source": "import numpy as np\nimport matplotlib.pyplot as plt\n\n# (a) Create two NumPy arrays using linspace and ones\narray1 = np.linspace(1, 10, 5)   # 5 values between 1 and 10\narray2 = np.ones(5) * 3          # array of 5 ones multiplied by 3\n\nprint(\"Array 1:\", array1)\nprint(\"Array 2:\", array2)\n\n# (b) Element-wise operations\nadd_result = array1 + array2\nsub_result = array1 - array2\ngreater_result = array1 > array2\nequal_result = array1 == array2\n\nprint(\"\\nAddition:\", add_result)\nprint(\"Subtraction:\", sub_result)\nprint(\"Greater Comparison:\", greater_result)\nprint(\"Equal Comparison:\", equal_result)\n\n# (c) Max, Min, Argmax, Argmin\nprint(\"\\nArray 1 - Max:\", np.max(array1), \"at index\", np.argmax(array1))\nprint(\"Array 1 - Min:\", np.min(array1), \"at index\", np.argmin(array1))\n\n# (d) Visualization using Matplotlib\nplt.plot(array1, label='Array 1', marker='o')\nplt.plot(array2, label='Array 2', marker='x')\nplt.title(\"Line Plot of Array 1 and Array 2\")\nplt.xlabel(\"Index\")\nplt.ylabel(\"Values\")\nplt.legend()\nplt.grid(True)\nplt.show()"
  },
  {
   "cell_type": "markdown",
   "metadata": {},
   "source": "## 🧩 SET 2\n### Question 1: Split a string into array of characters"
  },
  {
   "cell_type": "code",
   "metadata": {},
   "source": "# SET 2 - Question 1\n# Program to split a string into an array of characters\n\n# Get input string from user\ntext = input(\"Enter a string: \")\n\n# Split the string into a list of characters\nchar_list = list(text)\n\n# Display the result\nprint(\"Array of characters:\", char_list)"
  },
  {
   "cell_type": "markdown",
   "metadata": {},
   "source": "### Question 2: NumPy, Pandas, and Matplotlib Comparison"
  },
  {
   "cell_type": "code",
   "metadata": {},
   "source": "import pandas as pd\n\n# (a) Create two NumPy arrays and compare them element-wise\narray1 = np.array([10, 20, 30, 40, 50])\narray2 = np.array([15, 20, 25, 35, 55])\n\ngreater_equal = np.greater_equal(array1, array2)\nless_equal = np.less_equal(array1, array2)\nequal = np.equal(array1, array2)\n\nprint(\"Array 1:\", array1)\nprint(\"Array 2:\", array2)\nprint(\"\\nGreater or Equal:\", greater_equal)\nprint(\"Less or Equal:\", less_equal)\nprint(\"Equal:\", equal)\n\n# (b) Convert results into a Pandas DataFrame\ndf = pd.DataFrame({\n    'Array1': array1,\n    'Array2': array2,\n    'Greater_Equal': greater_equal,\n    'Less_Equal': less_equal,\n    'Equal': equal\n})\nprint(\"\\nDataFrame:\\n\", df)\n\n# (c) Plot the comparison results as a bar chart (True = 1, False = 0)\ndf_bool = df[['Greater_Equal', 'Less_Equal', 'Equal']].astype(int)\ndf_bool.plot(kind='bar', figsize=(8, 4))\nplt.title(\"Element-wise Comparison Results (True=1, False=0)\")\nplt.xlabel(\"Index\")\nplt.ylabel(\"Result\")\nplt.grid(True)\nplt.show()"
  },
  {
   "cell_type": "markdown",
   "metadata": {},
   "source": "## 🧩 SET 3\n### Question 1: Calculate the nth Fibonacci number using a function"
  },
  {
   "cell_type": "code",
   "metadata": {},
   "source": "# SET 3 - Question 1\n# Program to calculate the nth Fibonacci number using a function\n\ndef fibonacci(n):\n    if n <= 0:\n        return \"Input should be positive.\"\n    elif n == 1:\n        return 0\n    elif n == 2:\n        return 1\n    else:\n        a, b = 0, 1\n        for _ in range(2, n):\n            a, b = b, a + b\n        return b\n\n# Get input from user\nn = int(input(\"Enter the term number (n): \"))\nprint(f\"The {n}th Fibonacci number is:\", fibonacci(n))"
  },
  {
   "cell_type": "markdown",
   "metadata": {},
   "source": "### Question 2: NumPy, Pandas, and Histogram Visualization"
  },
  {
   "cell_type": "code",
   "metadata": {},
   "source": "# SET 3 - Question 2\n# Random integers, unique counts, statistics, histogram\narr = np.random.randint(1, 101, size=20)\nprint(\"Array:\", arr)\n\nunique, counts = np.unique(arr, return_counts=True)\nprint(\"\\nUnique Elements:\", unique)\nprint(\"Counts:\", counts)\n\n# Convert to DataFrame and show statistics\ndf = pd.DataFrame(arr, columns=[\"Numbers\"])\nprint(\"\\nDataFrame:\\n\", df.describe())\n\n# Histogram\nplt.hist(arr, bins=10, color='skyblue', edgecolor='black')\nplt.title(\"Histogram of Random Integers\")\nplt.xlabel(\"Value Range\")\nplt.ylabel(\"Frequency\")\nplt.grid(True)\nplt.show()"
  },
  {
   "cell_type": "markdown",
   "metadata": {},
   "source": "## 🧩 SET 4\n### Question 1: Demonstrate Inheritance in Python"
  },
  {
   "cell_type": "code",
   "metadata": {},
   "source": "# SET 4 - Question 1\n# Demonstrate Inheritance\n\nclass Animal:\n    def __init__(self, name):\n        self.name = name\n\n    def speak(self):\n        return \"Some generic animal sound\"\n\n    def move(self):\n        return \"The animal moves\"\n\nclass Dog(Animal):\n    def speak(self):\n        return f\"{self.name} says: Woof! Woof!\"\n    def move(self):\n        return f\"{self.name} runs on four legs.\"\n\nclass Cat(Animal):\n    def speak(self):\n        return f\"{self.name} says: Meow!\"\n    def move(self):\n        return f\"{self.name} walks gracefully.\"\n\nclass Bird(Animal):\n    def speak(self):\n        return f\"{self.name} says: Chirp! Chirp!\"\n    def move(self):\n        return f\"{self.name} flies in the sky.\"\n\ndog = Dog(\"Buddy\")\ncat = Cat(\"Whiskers\")\nbird = Bird(\"Tweety\")\n\nfor animal in [dog, cat, bird]:\n    print(animal.speak())\n    print(animal.move())\n    print()"
  },
  {
   "cell_type": "markdown",
   "metadata": {},
   "source": "### Question 2: NumPy, Pandas, and 3D Visualization"
  },
  {
   "cell_type": "code",
   "metadata": {},
   "source": "# SET 4 - Question 2\narray_2d = np.arange(9).reshape(3, 3)\nprint(\"Original Array:\\n\", array_2d)\n\ntransposed = array_2d.T\ngreater_than_4 = transposed[transposed > 4]\nprint(\"\\nTransposed:\\n\", transposed)\nprint(\"\\nElements > 4:\", greater_than_4)\n\n# DataFrame\ndf = pd.DataFrame(transposed, index=[\"Row1\",\"Row2\",\"Row3\"], columns=[\"Col1\",\"Col2\",\"Col3\"])\nprint(\"\\nDataFrame:\\n\", df)\n\n# 3D scatter plot\nfig = plt.figure(figsize=(6,5))\nax = fig.add_subplot(111, projection='3d')\nx, y = np.meshgrid(range(3), range(3))\nax.scatter(x, y, transposed, c=transposed, cmap='viridis', s=80)\nax.set_title(\"3D Scatter Plot of Matrix Values\")\nax.set_xlabel(\"Row Index\")\nax.set_ylabel(\"Column Index\")\nax.set_zlabel(\"Value\")\nplt.show()"
  },
  {
   "cell_type": "markdown",
   "metadata": {},
   "source": "## 🧩 SET 5\n### Question 1: Demonstrate Error Handling using try-except"
  },
  {
   "cell_type": "code",
   "metadata": {},
   "source": "# SET 5 - Question 1\ntry:\n    numerator = float(input(\"Enter numerator: \"))\n    denominator = float(input(\"Enter denominator: \"))\n    result = numerator / denominator\n    print(\"Result:\", result)\n\nexcept ZeroDivisionError:\n    print(\"Error: Division by zero is not allowed.\")\nexcept ValueError:\n    print(\"Error: Invalid input. Please enter numeric values.\")\nfinally:\n    print(\"Execution completed.\")"
  },
  {
   "cell_type": "markdown",
   "metadata": {},
   "source": "### Question 2: NumPy, Pandas, and Plot Saving"
  },
  {
   "cell_type": "code",
   "metadata": {},
   "source": "# SET 5 - Question 2\narray = np.arange(1,11)\nnp.save(\"my_array.npy\", array)\nloaded_array = np.load(\"my_array.npy\")\nprint(\"Loaded Array:\", loaded_array)\n\n# Convert to DataFrame\ndf = pd.DataFrame(loaded_array, columns=[\"Numbers\"])\nprint(\"\\nDataFrame:\\n\", df)\n\n# Plot and customize\nplt.figure(figsize=(7,4))\ndf.plot(kind='line', marker='o', legend=False, color='teal')\nplt.title(\"Line Plot of Numbers\")\nplt.xlabel(\"Index\")\nplt.ylabel(\"Value\")\nplt.grid(True)\nplt.tight_layout()\n\n# Save plot\nplt.savefig(\"line_plot.png\")\nplt.show()\nprint(\"\\nPlot saved successfully as 'line_plot.png'\")"
  }
 ],
 "metadata": {
  "kernelspec": {
   "display_name": "Python 3",
   "language": "python",
   "name": "python3"
  },
  "language_info": {
   "name": "python",
   "version": "3.10"
  }
 },
 "nbformat": 4,
 "nbformat_minor": 5
}
